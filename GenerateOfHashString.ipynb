{
  "nbformat": 4,
  "nbformat_minor": 0,
  "metadata": {
    "colab": {
      "name": "GenerateOfHashString.py",
      "provenance": [],
      "collapsed_sections": []
    },
    "kernelspec": {
      "name": "python3",
      "display_name": "Python 3"
    },
    "language_info": {
      "name": "python"
    }
  },
  "cells": [
    {
      "cell_type": "code",
      "metadata": {
        "colab": {
          "base_uri": "https://localhost:8080/"
        },
        "id": "L5FzhpzGZ5th",
        "outputId": "a96cccf0-7515-419b-a92d-5a4b40bf5f18"
      },
      "source": [
        "import hashlib\n",
        "\n",
        "str = \"hello world\"\n",
        "output =  hashlib.md5(str.encode())\n",
        "print(\"The Desired hash is: \")\n",
        "print(output.hexdigest())"
      ],
      "execution_count": 20,
      "outputs": [
        {
          "output_type": "stream",
          "text": [
            "The Desired hash is: \n",
            "5eb63bbbe01eeed093cb22bb8f5acdc3\n"
          ],
          "name": "stdout"
        }
      ]
    }
  ]
}