{
  "nbformat": 4,
  "nbformat_minor": 0,
  "metadata": {
    "colab": {
      "name": "SaltedHashes.ipynb",
      "provenance": []
    },
    "kernelspec": {
      "display_name": "Python 3",
      "name": "python3"
    },
    "language_info": {
      "name": "python"
    }
  },
  "cells": [
    {
      "cell_type": "code",
      "metadata": {
        "id": "Om-tEtK9V5kI"
      },
      "source": [
        "import os\n",
        "import hashlib\n",
        "\n",
        "# Example generation\n",
        "salt = os.urandom(32)\n",
        "key = hashlib.pbkdf2_hmac('sha256', 'mypassword'.encode('utf-8'), salt, 100000)\n",
        "\n",
        "# Store them as:\n",
        "storage = salt + key \n",
        "\n",
        "# Getting the values back out\n",
        "salt_from_storage = storage[:32] # 32 is the length of the salt\n",
        "key_from_storage = storage[32:]"
      ],
      "execution_count": 7,
      "outputs": []
    }
  ]
}